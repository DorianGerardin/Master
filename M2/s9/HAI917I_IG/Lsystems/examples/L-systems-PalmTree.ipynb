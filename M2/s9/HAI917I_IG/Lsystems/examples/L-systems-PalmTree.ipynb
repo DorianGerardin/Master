{
 "cells": [
  {
   "cell_type": "code",
   "execution_count": 2,
   "metadata": {},
   "outputs": [],
   "source": [
    "from pgljupyter import *"
   ]
  },
  {
   "cell_type": "code",
   "execution_count": 21,
   "metadata": {},
   "outputs": [
    {
     "data": {
      "text/plain": [
       "(<curve2dmanager.Curve2DManager at 0x7fda59b20f70>,\n",
       " NurbsCurve2D(Point3Array([Vector3(-0.5,0,1),Vector3(-0.166667,0,1),Vector3(0.166667,0,1),Vector3(0.5,0,1)])))"
      ]
     },
     "execution_count": 21,
     "metadata": {},
     "output_type": "execute_result"
    }
   ],
   "source": [
    "from openalea.lpy.lsysparameters import *\n",
    "from openalea.plantgl.all import *\n",
    "l = LsystemParameters()\n",
    "l.add_function('width_variation', NurbsCurve2D([(0,0,1),(1/4,4/5,1),(3/4,4/5,1),(1,0,1)]))\n",
    "l.add_curve('nerve', NurbsCurve2D([(0,0,1),(1/3,3/10,1),(2/3,3/10,1),(1,0,1)]))\n",
    "l.add_curve('section')\n",
    "\n",
    "l.add_function('width_variation2', NurbsCurve2D([(0,0,1),(1/4,4/5,1),(3/4,4/5,1),(1,0,1)]))\n",
    "l.add_curve('nerve2', NurbsCurve2D([(0,0,1),(1/3,2/10,1),(2/3,2/10,1),(1,0,1)]))\n",
    "l.add_curve('section2')\n",
    "\n",
    "l.add_function('width_variation3', NurbsCurve2D([(0,0,1),(1/4,4/5,1),(3/4,4/5,1),(1,0,1)]))\n",
    "l.add_curve('nerve3', NurbsCurve2D([(0,0,1),(1/3,1/10,1),(2/3,1/10,1),(1,0,1)]))\n",
    "l.add_curve('section3')\n",
    "\n",
    "l.add_function('width_variation4', NurbsCurve2D([(0,0,1),(1/4,4/5,1),(3/4,4/5,1),(1,0,1)]))\n",
    "l.add_curve('nerve4', NurbsCurve2D([(0,0,1),(1/3,1/10,1),(2/3,1/10,1),(1,0,1)]))\n",
    "l.add_curve('section4')\n",
    "\n",
    "l.add_function('width_variation5', NurbsCurve2D([(0,0,1),(1/4,4/5,1),(3/4,4/5,1),(1,0,1)]))\n",
    "l.add_curve('nerve5', NurbsCurve2D([(0,0,1),(1/3,1/10,1),(2/3,1/10,1),(1,0,1)]))\n",
    "l.add_curve('section5')\n",
    "\n",
    "l.add_function('width_variation6', NurbsCurve2D([(0,0,1),(1/4,4/5,1),(3/4,4/5,1),(1,0,1)]))\n",
    "l.add_curve('nerve6', NurbsCurve2D([(0,0,1),(1/3,1/10,1),(2/3,1/10,1),(1,0,1)]))\n",
    "l.add_curve('section6')"
   ]
  },
  {
   "cell_type": "code",
   "execution_count": 20,
   "metadata": {},
   "outputs": [
    {
     "data": {
      "application/vnd.jupyter.widget-view+json": {
       "model_id": "eff53ef402464796a0499cbecdf8fcb5",
       "version_major": 2,
       "version_minor": 0
      },
      "text/plain": [
       "HBox(children=(HBox(children=(LsystemWidget(animate=True, derivationLength=2, is_magic=True, scene={'data': b'…"
      ]
     },
     "execution_count": 20,
     "metadata": {},
     "output_type": "execute_result"
    }
   ],
   "source": [
    "%%lpy -p l -w 20 -a True\n",
    "\n",
    "Axiom: \n",
    "    nproduce _(0.4) { F(5) NurbsCurve2D([(0,0,1),(1/3,2/5,1),(2/3,2/5,1),(1,0,1)]) }\n",
    "    angle1 = 360/12\n",
    "    angle2 = angle1 + (angle1/2)\n",
    "    angle3 = angle2 + 360/8\n",
    "    angle4 = angle3 + 360/6\n",
    "    angle5 = angle4 + 360/3\n",
    "    angle6 = angle5 + (angle5/2)\n",
    "    for i in range(12):\n",
    "        #1ere rangée\n",
    "        nproduce /(angle1) [ &(120) ,(2) @Gc ,(2) Sweep(nerve, section, 5, 0.1, 1, width_variation) ]\n",
    "    for i in range(12):\n",
    "        #2eme rangée\n",
    "        nproduce /(angle2) [ &(100) ,(2) @Gc ,(2) Sweep(nerve2, section2, 4, 0.1, 1, width_variation2) ]\n",
    "        angle2 = angle1\n",
    "    for i in range(8):\n",
    "        #3eme rangée\n",
    "        nproduce /(angle3) [ &(85) ,(2) @Gc ,(2) Sweep(nerve3, section3, 4, 0.1, 1, width_variation3) ]\n",
    "        angle3 = 360/8\n",
    "    for i in range(6):\n",
    "        #4eme rangée\n",
    "        nproduce /(angle4) [ &(70) ,(2) @Gc ,(2) Sweep(nerve4, section4, 4, 0.1, 1, width_variation4) ]\n",
    "        angle4 = 360/6\n",
    "    for i in range(3):\n",
    "        #5eme rangée\n",
    "        nproduce /(angle5) [ &(55) ,(2) @Gc ,(2) Sweep(nerve5, section5, 4, 0.1, 1, width_variation5) ]\n",
    "        angle5 = 360/3\n",
    "    for i in range(3):\n",
    "        #5eme rangée\n",
    "        nproduce /(angle6) [ &(40) ,(2) @Gc ,(2) Sweep(nerve6, section6, 3, 0.1, 1, width_variation6) ]\n",
    "        angle6 = angle5\n",
    "        \n",
    "    "
   ]
  },
  {
   "cell_type": "code",
   "execution_count": null,
   "metadata": {},
   "outputs": [],
   "source": []
  }
 ],
 "metadata": {
  "kernelspec": {
   "display_name": "Python 3 (ipykernel)",
   "language": "python",
   "name": "python3"
  },
  "language_info": {
   "codemirror_mode": {
    "name": "ipython",
    "version": 3
   },
   "file_extension": ".py",
   "mimetype": "text/x-python",
   "name": "python",
   "nbconvert_exporter": "python",
   "pygments_lexer": "ipython3",
   "version": "3.9.13"
  }
 },
 "nbformat": 4,
 "nbformat_minor": 2
}
