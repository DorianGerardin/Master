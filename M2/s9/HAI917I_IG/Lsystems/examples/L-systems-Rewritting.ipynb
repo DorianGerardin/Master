{
 "cells": [
  {
   "cell_type": "code",
   "execution_count": 2,
   "metadata": {
    "ExecuteTime": {
     "end_time": "2021-10-14T10:22:22.087624Z",
     "start_time": "2021-10-14T10:22:21.089467Z"
    }
   },
   "outputs": [],
   "source": [
    "from pgljupyter import *"
   ]
  },
  {
   "cell_type": "markdown",
   "metadata": {},
   "source": [
    "# L-systems\n"
   ]
  },
  {
   "cell_type": "markdown",
   "metadata": {},
   "source": [
    "# Fractals\n",
    "\n",
    "## The peano curve\n",
    "\n",
    "Reproduce the following rule and generate the resulting fractal shape until iteration 3.\n",
    "\n",
    "![peanocurve](./img/peanocurve.png)\n",
    "\n"
   ]
  },
  {
   "cell_type": "code",
   "execution_count": 3,
   "metadata": {
    "ExecuteTime": {
     "end_time": "2021-10-07T13:05:18.977631Z",
     "start_time": "2021-10-07T13:05:18.965083Z"
    }
   },
   "outputs": [
    {
     "data": {
      "application/vnd.jupyter.widget-view+json": {
       "model_id": "0f0d6edb77054f51b51c60fcdd8c8cac",
       "version_major": 2,
       "version_minor": 0
      },
      "text/plain": [
       "LsystemWidget(derivationLength=4, is_magic=True, scene={'data': b'x\\xdaSLrw\\xf5\\xf7e`Pp\\xe0\\xe5RPVVda```be\\x08…"
      ]
     },
     "execution_count": 3,
     "metadata": {},
     "output_type": "execute_result"
    }
   ],
   "source": [
    "%%lpy -w 5\n",
    "\n",
    "Axiom: -(90)  F(1)\n",
    "derivation length: 3\n",
    "production:\n",
    "F(x) --> F(x) + (90) F(x) -(90) F(x) - (90) F(x) -(90) F(x) +(90) F(x) +(90) F(x) +(90) F(x) -(90) F(x)"
   ]
  },
  {
   "cell_type": "markdown",
   "metadata": {},
   "source": [
    "## The cantor dust\n",
    "\n",
    "Reproduce the following rule and generate the resulting fractal shap euntil iteration 3.\n",
    "\n",
    "![cantordust](./img/cantordust.png)\n"
   ]
  },
  {
   "cell_type": "code",
   "execution_count": 3,
   "metadata": {
    "ExecuteTime": {
     "end_time": "2021-10-06T16:08:19.719672Z",
     "start_time": "2021-10-06T16:08:19.708673Z"
    }
   },
   "outputs": [
    {
     "data": {
      "application/vnd.jupyter.widget-view+json": {
       "model_id": "7c03413b2b354915947aa7858cf0e756",
       "version_major": 2,
       "version_minor": 0
      },
      "text/plain": [
       "LsystemWidget(derivationLength=4, is_magic=True, scene={'data': b'x\\xdaSLrw\\xf5\\xf7e`Pp\\xe0\\xe5RPVVde```be\\x08…"
      ]
     },
     "execution_count": 3,
     "metadata": {},
     "output_type": "execute_result"
    }
   ],
   "source": [
    "%%lpy\n",
    "Axiom: -(90) f(-0.5) F(1)\n",
    "derivation length: 3\n",
    "production:\n",
    "F(x) --> F(x/3) f(x/3) F(x/3)"
   ]
  },
  {
   "cell_type": "markdown",
   "metadata": {},
   "source": [
    "## Hilbert curve in 3D"
   ]
  },
  {
   "cell_type": "code",
   "execution_count": 4,
   "metadata": {
    "ExecuteTime": {
     "end_time": "2021-10-07T13:40:35.020404Z",
     "start_time": "2021-10-07T13:40:35.009602Z"
    }
   },
   "outputs": [
    {
     "data": {
      "application/vnd.jupyter.widget-view+json": {
       "model_id": "cc33476030b749578f9588a4b10592de",
       "version_major": 2,
       "version_minor": 0
      },
      "text/plain": [
       "LsystemWidget(animate=True, derivationLength=5, is_magic=True, scene={'data': b'x\\xdaSLrw\\xf5\\xf7e`Pp\\xe0\\xe5R…"
      ]
     },
     "execution_count": 4,
     "metadata": {},
     "output_type": "execute_result"
    }
   ],
   "source": [
    "%%lpy -w 40 -a True\n",
    "Axiom: A\n",
    "context().turtle.setAngleIncrement(90)\n",
    "\n",
    "derivation length: 4\n",
    "production:\n",
    "\n",
    "A  --> B-F+CFC+F-D&F^D-F+&&CFC+F+B// \n",
    "B  --> A&F^CFB^F^D^^-F-D^|F^B|FC^F^A// \n",
    "C  --> |D^|F^B-F+C^F^A&&FA&F^C+F+B^F^D// \n",
    "D  --> |CFB-F+B|FA&F^A&&FB-F+B|FC// \n",
    "\n",
    "interpretation:\n",
    "A --> ,(2)\n",
    "B --> ,(3)\n",
    "C --> ,(4)\n",
    "D --> ,(5)\n"
   ]
  },
  {
   "cell_type": "markdown",
   "metadata": {},
   "source": [
    "## Barnley Fern \n",
    "\n",
    "Try to construct the barnley fern model.\n",
    "Modify the R value and the angle to achieve other shape.\n",
    "\n",
    "![fern](./img/barnleyfern.png)\n",
    "![fern](./img/barnleyfern-construction.png)\n"
   ]
  },
  {
   "cell_type": "code",
   "execution_count": 5,
   "metadata": {
    "ExecuteTime": {
     "end_time": "2021-10-07T13:29:16.407367Z",
     "start_time": "2021-10-07T13:29:16.395554Z"
    }
   },
   "outputs": [
    {
     "data": {
      "application/vnd.jupyter.widget-view+json": {
       "model_id": "44573778b5e6457e8911e9603bf7b477",
       "version_major": 2,
       "version_minor": 0
      },
      "text/plain": [
       "LsystemWidget(animate=True, derivationLength=21, is_magic=True, scene={'data': b'x\\xdaSLrw\\xf5\\xf7e`Pp\\xe0\\xe5…"
      ]
     },
     "execution_count": 5,
     "metadata": {},
     "output_type": "execute_result"
    }
   ],
   "source": [
    "%%lpy -w 20 -a True\n",
    "\n",
    "s_top = 2/3 \n",
    "s_lat = 1/2 \n",
    "Axiom: _(0.01) ,(2) A(1)\n",
    "derivation length: 20\n",
    "production:\n",
    "A(s) --> F(s) [+A(s*s_lat)] -(5)F(s)[/(180)+A(s*s_lat)] -(5) A(s*s_top)\n",
    "    \n"
   ]
  },
  {
   "cell_type": "markdown",
   "metadata": {},
   "source": [
    "## Broccoli\n",
    "\n",
    "Generate a broccoli shape:\n",
    "\n",
    "Each node has 4 lateral children internode and an apical one.\n",
    "   - Insertion angle for lateral: 40 \n",
    "   - 90 degree between each lateral children\n",
    "Width depends on the order of ramification\n",
    "Scaling factor of 0.5 between each order\n",
    "Finish structure with sphere with size double from terminal internode\n",
    "\n",
    "![broccoli](./img/broccoli.png)"
   ]
  },
  {
   "cell_type": "code",
   "execution_count": 6,
   "metadata": {
    "ExecuteTime": {
     "end_time": "2021-10-06T16:28:11.971912Z",
     "start_time": "2021-10-06T16:28:11.954294Z"
    }
   },
   "outputs": [
    {
     "data": {
      "application/vnd.jupyter.widget-view+json": {
       "model_id": "54e0e5b4beaa46dfac05e58a46637019",
       "version_major": 2,
       "version_minor": 0
      },
      "text/plain": [
       "LsystemWidget(animate=True, derivationLength=7, is_magic=True, scene={'data': b'x\\xdaSLrw\\xf5\\xf7e`Pp\\xe0\\xe5R…"
      ]
     },
     "execution_count": 6,
     "metadata": {},
     "output_type": "execute_result"
    }
   ],
   "source": [
    "%%lpy -w 6 -a True\n",
    "a = 40\n",
    "def nextscale(s) :  return s/2.\n",
    "Axiom: ,(2) _(0.3) F(1, 0.25) A(1) \n",
    "production:\n",
    "derivation length:6\n",
    "A(s) : \n",
    "        nproduce +(40) F [+ (40) &(90) F] F A(nextscale(s))\n",
    "interpretation:\n",
    "A(s) --> @O(2*s) "
   ]
  },
  {
   "cell_type": "markdown",
   "metadata": {},
   "source": [
    "## Continuous development"
   ]
  },
  {
   "cell_type": "markdown",
   "metadata": {},
   "source": [
    "Growth of organs is simulated using a logistic function (Cookson et al., 2007).\n",
    "\n",
    "<center>$\\frac{L}{1 + \\exp{-\\frac{t-tip}{b}}}$</center>"
   ]
  },
  {
   "cell_type": "code",
   "execution_count": 7,
   "metadata": {
    "ExecuteTime": {
     "end_time": "2021-10-14T09:41:10.282417Z",
     "start_time": "2021-10-14T09:41:10.279417Z"
    }
   },
   "outputs": [],
   "source": [
    "from math import exp\n",
    "\n",
    "def growth_logistic(t, L, tip, b):\n",
    "    return L / (1 + exp(-(t-tip)/b))"
   ]
  },
  {
   "cell_type": "code",
   "execution_count": 8,
   "metadata": {
    "ExecuteTime": {
     "end_time": "2021-10-14T09:41:10.661633Z",
     "start_time": "2021-10-14T09:41:10.542720Z"
    }
   },
   "outputs": [
    {
     "data": {
      "image/png": "[encoded data removed]",
      "text/plain": [
       "<Figure size 640x480 with 1 Axes>"
      ]
     },
     "metadata": {},
     "output_type": "display_data"
    }
   ],
   "source": [
    "import matplotlib.pyplot as plt\n",
    "from numpy import arange\n",
    "b = 0.15\n",
    "tip = 0.5\n",
    "L= 10\n",
    "\n",
    "t = arange(0,1,0.01)\n",
    "l = list(map(lambda t : growth_logistic(t,L,tip,b), t))\n",
    "plt.plot(t,l)\n",
    "plt.show()"
   ]
  },
  {
   "cell_type": "markdown",
   "metadata": {},
   "source": [
    "Change the theoritical example where all organs growth linearly so that allorgans growth using the logistic."
   ]
  },
  {
   "cell_type": "code",
   "execution_count": 14,
   "metadata": {
    "ExecuteTime": {
     "end_time": "2021-10-14T09:35:04.670506Z",
     "start_time": "2021-10-14T09:35:04.658140Z"
    }
   },
   "outputs": [
    {
     "data": {
      "application/vnd.jupyter.widget-view+json": {
       "model_id": "b3c98f05c6184f59aee55a2afa044f01",
       "version_major": 2,
       "version_minor": 0
      },
      "text/plain": [
       "LsystemWidget(animate=True, derivationLength=601, is_magic=True, scene={'data': b'x\\xdaSLrw\\xf5\\xf7e`Pp\\xe0\\xe…"
      ]
     },
     "execution_count": 14,
     "metadata": {},
     "output_type": "execute_result"
    }
   ],
   "source": [
    "%%lpy -w 10 -a True\n",
    "\n",
    "phyllochrone = 1\n",
    "Li = 0.5\n",
    "Lf = 1\n",
    "dt = 0.01\n",
    "\n",
    "tip = phyllochrone/2\n",
    "b_i = 0.15\n",
    "b_l = 0.3\n",
    "\n",
    "Axiom:  I(0) L(0) A(0)\n",
    "derivation length: 600\n",
    "production:\n",
    "A(t): \n",
    "    if t > phyllochrone : produce /(137.5)I(0) L(0) A(0)\n",
    "    else: produce A(t+dt)\n",
    "\n",
    "I(t) --> I(t+dt)\n",
    "L(t) --> L(t+dt)\n",
    "\n",
    "interpretation:\n",
    "I(t) --> F(growth_logistic(t, Li, tip, b_i))\n",
    "L(t) --> [&(90*min(1,t)),(2) ~l(growth_logistic(t, Lf, tip, b_l))]\n"
   ]
  },
  {
   "cell_type": "markdown",
   "metadata": {
    "ExecuteTime": {
     "end_time": "2021-10-06T13:41:02.257628Z",
     "start_time": "2021-10-06T13:41:02.250438Z"
    }
   },
   "source": [
    "# Random trees\n",
    "\n",
    "Generate a tree such as a the end of each segment, a random number of lateral segment children (between 2 and 4) are generated.\n",
    "  - Insertion angle: 60\n",
    "  - Divergence angle between segments at the same node: proportionnal to number of segments i.e. 360/nb\n",
    "\n",
    "![randomtree](./img/randomtree.png)"
   ]
  },
  {
   "cell_type": "code",
   "execution_count": 49,
   "metadata": {
    "ExecuteTime": {
     "end_time": "2021-10-14T08:34:11.616395Z",
     "start_time": "2021-10-14T08:34:11.604240Z"
    }
   },
   "outputs": [
    {
     "data": {
      "application/vnd.jupyter.widget-view+json": {
       "model_id": "98cf8282130e459abfce8f47dcf17ffc",
       "version_major": 2,
       "version_minor": 0
      },
      "text/plain": [
       "LsystemWidget(animate=True, derivationLength=7, is_magic=True, scene={'data': b\"x\\xdaSLrw\\xf5\\xf7e`Pp\\xe0\\xe5R…"
      ]
     },
     "execution_count": 49,
     "metadata": {},
     "output_type": "execute_result"
    }
   ],
   "source": [
    "%%lpy -w 10 -a True\n",
    "from random import *\n",
    "module Segment\n",
    "dl = 0.5\n",
    "ds = 0.1\n",
    "Axiom: A\n",
    "\n",
    "derivation length: 6\n",
    "production:\n",
    "\n",
    "A:\n",
    "    nproduce /(137.5) Segment(1)\n",
    "    rand = randint(2,4)\n",
    "    for i in range(rand):\n",
    "        nproduce [/(i*360./rand) ^(30) A]\n",
    "\n",
    "interpretation:\n",
    "\n",
    "A --> [,(3) @O(0.15) ]\n",
    "Segment(l) --> nF(l,ds)\n",
    "endlsystem"
   ]
  },
  {
   "cell_type": "markdown",
   "metadata": {},
   "source": [
    "## Random patterns\n",
    "\n",
    "Implement the following Lsystem:\n",
    "\n",
    "![markov2](./img/markov2.png)\n",
    "\n",
    "with the given table of probabilities\n",
    "\n",
    "|    |   A  |    B  |\n",
    "|----|------|-------|\n",
    "| A  | 0.75 |  0.25 |\n",
    "| B  | 0.25 |  0.75 |\n",
    "\n",
    "Estimate the total probability to branch with the formula\n",
    "\n",
    "<center>$p_{br} = \\frac{p_{AB}}{p_{AB}+p_{BA}}$</center>"
   ]
  },
  {
   "cell_type": "code",
   "execution_count": 59,
   "metadata": {
    "ExecuteTime": {
     "end_time": "2021-10-14T09:48:53.780834Z",
     "start_time": "2021-10-14T09:48:53.770380Z"
    }
   },
   "outputs": [
    {
     "data": {
      "application/vnd.jupyter.widget-view+json": {
       "model_id": "ea635895c71748b480bda9ed1f0b8f69",
       "version_major": 2,
       "version_minor": 0
      },
      "text/plain": [
       "LsystemWidget(animate=True, derivationLength=101, is_magic=True, scene={'data': b'x\\xdaSLrw\\xf5\\xf7e`Pp\\xe0\\xe…"
      ]
     },
     "execution_count": 59,
     "metadata": {},
     "output_type": "execute_result"
    }
   ],
   "source": [
    "%%lpy -w 400 -a True\n",
    "\n",
    "from random import *\n",
    "p11 = 0.50000 # probability of staying in a branched node\n",
    "p00 = 0.50000 # probability of staying in an empty node\n",
    "\n",
    "Axiom: _(1) S \n",
    "derivation length: 100\n",
    "\n",
    "# x=1 = branching state\n",
    "# x=0 = non-branching state \n",
    "\n",
    "production:\n",
    "ignore: /\n",
    "S :\n",
    "    if random() <= 0.5: produce A\n",
    "    else : produce B\n",
    "\n",
    "A : #  branching\n",
    "    nproduce /(180)I[M]\n",
    "    if(random() < p11) : \n",
    "        nproduce A\n",
    "    else :\n",
    "        nproduce B\n",
    "\n",
    "B :  # non branching\n",
    "    nproduce I\n",
    "    if(random() < p00) : \n",
    "        nproduce B\n",
    "    else :\n",
    "        nproduce A\n",
    "        \n",
    "\n",
    "\n",
    "homomorphism:\n",
    "\n",
    "M --> ;(2)+F(20)\n",
    "I --> ;(1)F(2)\n",
    "A --> ;(1)@O(3)\n"
   ]
  },
  {
   "cell_type": "markdown",
   "metadata": {},
   "source": [
    "## Pruning "
   ]
  },
  {
   "cell_type": "code",
   "execution_count": 12,
   "metadata": {
    "ExecuteTime": {
     "end_time": "2021-10-14T10:26:05.760731Z",
     "start_time": "2021-10-14T10:26:05.749758Z"
    }
   },
   "outputs": [
    {
     "data": {
      "application/vnd.jupyter.widget-view+json": {
       "model_id": "0059221eedc04bde844f421e9f14fa36",
       "version_major": 2,
       "version_minor": 0
      },
      "text/plain": [
       "LsystemWidget(animate=True, derivationLength=11, is_magic=True, scene={'data': b'x\\xdaSLrw\\xf5\\xf7e`Pp\\xe0\\xe5…"
      ]
     },
     "execution_count": 12,
     "metadata": {},
     "output_type": "execute_result"
    }
   ],
   "source": [
    "%%lpy -a True -w 20\n",
    "Axiom : A\n",
    "production:\n",
    "derivation length: 10\n",
    "\n",
    "A --> F(1)[-X(3)B][+X(3)B]A\n",
    "B --> F(1) B\n",
    "X(0) --> F(0.3)%\n",
    "X(d) --> X(d-1)"
   ]
  },
  {
   "cell_type": "markdown",
   "metadata": {},
   "source": [
    "## Positional information"
   ]
  },
  {
   "cell_type": "code",
   "execution_count": 4,
   "metadata": {
    "ExecuteTime": {
     "end_time": "2021-10-14T10:25:55.538612Z",
     "start_time": "2021-10-14T10:25:55.535332Z"
    }
   },
   "outputs": [],
   "source": [
    "from openalea.lpy.lsysparameters import *\n",
    "from openalea.plantgl.all import *"
   ]
  },
  {
   "cell_type": "code",
   "execution_count": 5,
   "metadata": {
    "ExecuteTime": {
     "end_time": "2021-10-14T10:36:47.878828Z",
     "start_time": "2021-10-14T10:36:47.871531Z"
    }
   },
   "outputs": [
    {
     "data": {
      "text/plain": [
       "(<functionmanager.FunctionManager at 0x7f441b0cdf70>,\n",
       " NurbsCurve2D(Point3Array([Vector3(0,0.1,1),Vector3(0.333333,1,1),Vector3(0.666667,1,1),Vector3(1,0,1)])))"
      ]
     },
     "execution_count": 5,
     "metadata": {},
     "output_type": "execute_result"
    }
   ],
   "source": [
    "\n",
    "l = LsystemParameters()\n",
    "l.add_function('h', NurbsCurve2D([(0,0.1,1),(1/3,1,1),(2/3,1,1),(1,0,1)]))\n",
    "l.add_curve('path')\n",
    "l.add_curve('leaf_path')\n",
    "l.add_curve('leaf_section', Polyline2D([(-0.5,0),(0.5,0)]))\n",
    "l.add_function('leaf_width', NurbsCurve2D([(0,0.1,1),(1/3,1,1),(2/3,1,1),(1,0,1)]))\n"
   ]
  },
  {
   "cell_type": "code",
   "execution_count": 12,
   "metadata": {
    "ExecuteTime": {
     "end_time": "2021-10-14T10:41:09.151934Z",
     "start_time": "2021-10-14T10:41:09.059214Z"
    }
   },
   "outputs": [
    {
     "data": {
      "application/vnd.jupyter.widget-view+json": {
       "model_id": "7d6eed44224246a1a8bd85754e2593d1",
       "version_major": 2,
       "version_minor": 0
      },
      "text/plain": [
       "HBox(children=(HBox(children=(LsystemWidget(animate=True, derivationLength=21, is_magic=True, scene={'data': b…"
      ]
     },
     "execution_count": 12,
     "metadata": {},
     "output_type": "execute_result"
    }
   ],
   "source": [
    "%%lpy -a True -w 20 -p l\n",
    "l = 10\n",
    "dl = 0.5\n",
    "Axiom : ,(2) SetGuide(path,l) A(0)\n",
    "\n",
    "derivation length: int(l/dl)\n",
    "production:\n",
    "\n",
    "A(cl) --> F(dl) [&(90) L(h(cl/l) * 10)] [/(180) &(90) L(h(cl/l) * 10)] A(cl+dl)\n",
    "\n",
    "interpretation:\n",
    "L(ll) --> /(90) Sweep(leaf_path, leaf_section, ll, 0.1, 0.5, leaf_width) \n"
   ]
  },
  {
   "cell_type": "code",
   "execution_count": null,
   "metadata": {},
   "outputs": [],
   "source": []
  }
 ],
 "metadata": {
  "kernelspec": {
   "display_name": "Python 3 (ipykernel)",
   "language": "python",
   "name": "python3"
  },
  "language_info": {
   "codemirror_mode": {
    "name": "ipython",
    "version": 3
   },
   "file_extension": ".py",
   "mimetype": "text/x-python",
   "name": "python",
   "nbconvert_exporter": "python",
   "pygments_lexer": "ipython3",
   "version": "3.9.13"
  }
 },
 "nbformat": 4,
 "nbformat_minor": 2
}
