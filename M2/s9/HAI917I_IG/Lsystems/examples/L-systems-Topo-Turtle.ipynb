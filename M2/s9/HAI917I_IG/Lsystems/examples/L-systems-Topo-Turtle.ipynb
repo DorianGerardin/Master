{
 "cells": [
  {
   "cell_type": "markdown",
   "metadata": {},
   "source": [
    "# L-systems\n"
   ]
  },
  {
   "cell_type": "code",
   "execution_count": 2,
   "metadata": {
    "ExecuteTime": {
     "end_time": "2021-10-08T08:19:27.836820Z",
     "start_time": "2021-10-08T08:19:26.923701Z"
    }
   },
   "outputs": [],
   "source": [
    "from pgljupyter import *"
   ]
  },
  {
   "cell_type": "markdown",
   "metadata": {},
   "source": [
    "## L-Py syntax\n",
    "Here comes simple examples of L-systems"
   ]
  },
  {
   "cell_type": "code",
   "execution_count": 3,
   "metadata": {
    "ExecuteTime": {
     "end_time": "2021-10-08T08:20:03.099660Z",
     "start_time": "2021-10-08T08:20:03.088457Z"
    }
   },
   "outputs": [
    {
     "data": {
      "application/vnd.jupyter.widget-view+json": {
       "model_id": "7f0e0fbf674d48dbb27a6b8fee8aeb2a",
       "version_major": 2,
       "version_minor": 0
      },
      "text/plain": [
       "LsystemWidget(animate=True, derivationLength=6, is_magic=True, scene={'data': b'x\\xdaSLrw\\xf5\\xf7e`Pp\\xe0\\xe5R…"
      ]
     },
     "execution_count": 3,
     "metadata": {},
     "output_type": "execute_result"
    }
   ],
   "source": [
    "%%lpy -w 10 -a True\n",
    "from random import random \n",
    "MAX_AGE, dr = 10, 0.03 # constants\n",
    "module Apex(age), Internode(length,radius)\n",
    "Axiom: @Gc Apex(0)\n",
    "derivation length: 5\n",
    "production:\n",
    "Apex(age) :\n",
    "  if age < MAX_AGE:\n",
    "    produce Internode(1+ random(),0.03) /(137)[+(30)Apex(age+1)]Apex(age+1)\n",
    "\n",
    "Internode(l,r) --> Internode(l,r+dr)\n",
    "interpretation:\n",
    "Internode(l,r) --> _(r) F(l)\n",
    "endlsystem"
   ]
  },
  {
   "cell_type": "markdown",
   "metadata": {},
   "source": [
    "## Topology\n",
    "\n",
    "### String interpretation\n",
    "Interpret the following structure as an Lstring.\n",
    "\n",
    "![axialtree](./img/axialtree.png)\n"
   ]
  },
  {
   "cell_type": "code",
   "execution_count": 4,
   "metadata": {
    "ExecuteTime": {
     "end_time": "2021-10-06T15:56:04.323457Z",
     "start_time": "2021-10-06T15:56:04.314300Z"
    }
   },
   "outputs": [
    {
     "data": {
      "application/vnd.jupyter.widget-view+json": {
       "model_id": "c68c403a967242deaa54eb5e4f38069d",
       "version_major": 2,
       "version_minor": 0
      },
      "text/plain": [
       "LsystemWidget(derivationLength=2, is_magic=True, scene={'data': b'x\\xdaSLrw\\xf5\\xf7e`Pp\\xe0\\xe5RPVVd\\x00\\x020\\…"
      ]
     },
     "execution_count": 4,
     "metadata": {},
     "output_type": "execute_result"
    }
   ],
   "source": [
    "%%lpy\n",
    "Axiom: "
   ]
  },
  {
   "cell_type": "markdown",
   "metadata": {},
   "source": [
    "### Multiscale string\n",
    "\n",
    "Try to interpret the following lstring code.\n",
    "\n",
    "`module S : scale = 1`\n",
    "\n",
    "`module B : scale = 2`\n",
    "\n",
    "`module N : scale = 3`\n",
    "\n",
    "$S_1B_1N_0N_1 [S_2B_2N_2 [N_3] B_3 N_4 [N_5N_6] N_7[N_8]N_9]N_{10}B_4N_{11} [S_3B_5N_{12}N_{13}[N_{14}]N_{15}]N_{16}N_{17} [N_{18}]N_{19}$\n",
    "\n",
    "- Draw a geometrical interpretation \n",
    "- What are the complexes at scale 2 of N3, N10 ,N15 ,N16 ?\n",
    "- What are the complexes at scale 1 of B3, B5?\n",
    "- What are the components at scale 3 of B3, B4, B5, S1?\n",
    "- What are the parents at scale 2 of B3, B5? at scale 3 of N2, N12?\n",
    "- What are the children at scale 3 of N4, N10 ?"
   ]
  },
  {
   "cell_type": "markdown",
   "metadata": {},
   "source": [
    "## Turtle Geometry\n",
    "\n",
    "A basic example of turtle syntax with F and + and - symbols."
   ]
  },
  {
   "cell_type": "code",
   "execution_count": 4,
   "metadata": {
    "ExecuteTime": {
     "end_time": "2021-10-08T08:20:38.608320Z",
     "start_time": "2021-10-08T08:20:38.593255Z"
    }
   },
   "outputs": [
    {
     "data": {
      "application/vnd.jupyter.widget-view+json": {
       "model_id": "9f7311a48eb9441580e1129b458ddaca",
       "version_major": 2,
       "version_minor": 0
      },
      "text/plain": [
       "LsystemWidget(derivationLength=2, is_magic=True, scene={'data': b'x\\xda\\x9d\\xd4=O\\xc2@\\x18\\x07\\xf0\\xa7\\xbc\\x84…"
      ]
     },
     "execution_count": 4,
     "metadata": {},
     "output_type": "execute_result"
    }
   ],
   "source": [
    "%%lpy -w 10\n",
    "# Set default angle to 90\n",
    "execContext().turtle.setAngleIncrement(90)\n",
    "\n",
    "Axiom: FFF-FF-F-F+F+FF-F-FFF"
   ]
  },
  {
   "cell_type": "markdown",
   "metadata": {},
   "source": [
    "#### First exercice : Draw an equilateral triangle\n",
    "\n",
    "```python\n",
    "Axiom: -(90) F(5) ...\n",
    "```\n",
    "\n",
    "![triangle](./img/triangle.png)\n",
    "\n"
   ]
  },
  {
   "cell_type": "code",
   "execution_count": 5,
   "metadata": {
    "ExecuteTime": {
     "end_time": "2021-10-08T08:22:42.217254Z",
     "start_time": "2021-10-08T08:22:42.204538Z"
    }
   },
   "outputs": [
    {
     "data": {
      "application/vnd.jupyter.widget-view+json": {
       "model_id": "02a872f7c27e45af884aafff2ca17e5b",
       "version_major": 2,
       "version_minor": 0
      },
      "text/plain": [
       "LsystemWidget(derivationLength=2, is_magic=True, scene={'data': b'x\\xdaSLrw\\xf5\\xf7e`Pp\\xe0\\xe5RPVVde```be\\x08…"
      ]
     },
     "execution_count": 5,
     "metadata": {},
     "output_type": "execute_result"
    }
   ],
   "source": [
    "%%lpy -w 5\n",
    "\n",
    "Axiom: -(90) F(5) + (120) F(5) + (120) F(5) "
   ]
  },
  {
   "cell_type": "markdown",
   "metadata": {},
   "source": [
    "### Creation of a polygon\n",
    "\n",
    "Complete the axiom that will generate the following polygonal shape. Use the command F, + et -. By default, non indicated angles are equal to 90° and length to 1.\n",
    "\n",
    "```python\n",
    "Axiom: ,(2) _(0.02) { . F    ....  } (True)\n",
    "```\n",
    "\n",
    "![mappleleaf](./img/mappleleaf.png)\n",
    "\n"
   ]
  },
  {
   "cell_type": "code",
   "execution_count": 7,
   "metadata": {
    "ExecuteTime": {
     "end_time": "2021-10-06T15:56:04.370605Z",
     "start_time": "2021-10-06T15:56:04.359866Z"
    }
   },
   "outputs": [
    {
     "data": {
      "application/vnd.jupyter.widget-view+json": {
       "model_id": "b35735848cd245b684ab7cb2964049b7",
       "version_major": 2,
       "version_minor": 0
      },
      "text/plain": [
       "LsystemWidget(derivationLength=2, is_magic=True, scene={'data': b'x\\xda\\x8dTMh\\x13A\\x14~IL\\xb2n\\xba\\xa5-\\xa5\\x…"
      ]
     },
     "execution_count": 7,
     "metadata": {},
     "output_type": "execute_result"
    }
   ],
   "source": [
    "%%lpy -w 5\n",
    "\n",
    "Axiom: ,(6) _(0.1) { . F + (90) F + (-40) F + (-40) F(0.5) + (-120) F + (80) F(2) + (-120) F(2) + (80) F + (-120) F(0.5) + (-40) F + (-40) F + (90) F} (True)"
   ]
  },
  {
   "cell_type": "markdown",
   "metadata": {},
   "source": [
    "### Leaf shape\n",
    "\n",
    "Define a section curve for the leaf. Edit it with the editor.\n",
    "Introduce @Gc et SetContour to the axiom to change the section.\n",
    "\n",
    "```python\n",
    "Axiom:  _(0.05) ,(2)  F(1,0.3) &(20) F(1,0.2) &(10) F(1,0.01)\n",
    "\n",
    "```\n",
    "\n",
    "![sweepleaf](./img/sweepleaf.png)\n",
    "\n"
   ]
  },
  {
   "cell_type": "code",
   "execution_count": 7,
   "metadata": {
    "ExecuteTime": {
     "end_time": "2021-10-08T09:11:13.747982Z",
     "start_time": "2021-10-08T09:11:13.329932Z"
    }
   },
   "outputs": [
    {
     "data": {
      "text/plain": [
       "(<curve2dmanager.Curve2DManager at 0x7f0b84fff550>,\n",
       " NurbsCurve2D(Point3Array([Vector3(-0.5,0,1),Vector3(-0.166667,0,1),Vector3(0.166667,0,1),Vector3(0.5,0,1)])))"
      ]
     },
     "execution_count": 7,
     "metadata": {},
     "output_type": "execute_result"
    }
   ],
   "source": [
    "from openalea.lpy.lsysparameters import *\n",
    "from openalea.plantgl.all import *\n",
    "l = LsystemParameters()\n",
    "l.add_curve('section')\n",
    "l.add_function('width_variation', NurbsCurve2D([(0,1,1),(1/3,1,1),(2/3,1,1),(1,0,1)]))\n",
    "l.add_curve('nerve')"
   ]
  },
  {
   "cell_type": "code",
   "execution_count": 8,
   "metadata": {
    "ExecuteTime": {
     "end_time": "2021-10-08T09:12:06.169804Z",
     "start_time": "2021-10-08T09:12:06.120731Z"
    }
   },
   "outputs": [
    {
     "data": {
      "application/vnd.jupyter.widget-view+json": {
       "model_id": "738fa6503c2148768470075f3a350787",
       "version_major": 2,
       "version_minor": 0
      },
      "text/plain": [
       "HBox(children=(HBox(children=(LsystemWidget(animate=True, derivationLength=2, is_magic=True, scene={'data': b'…"
      ]
     },
     "execution_count": 8,
     "metadata": {},
     "output_type": "execute_result"
    }
   ],
   "source": [
    "%%lpy -p l -w 5 -a True\n",
    "\n",
    "Axiom: @Gc _(0.05) ,(2) SetContour(section) F(1,0.9) &(20) F(1,0.7) &(10) F(1,0.05)"
   ]
  },
  {
   "cell_type": "markdown",
   "metadata": {},
   "source": [
    "Define a second section curve, a path and a width function.\n",
    "Create a second model with Sweep(nerve_curve, section_curve,length, segsize,  width,width_func)\n",
    "\n",
    "```python\n",
    "Axiom:  Sweep(nerve_curve, section_curve,length, segsize,  width, width_func)\n",
    "\n",
    "```\n",
    "\n",
    "![sweepleaf](./img/sweepleaf2.png)\n"
   ]
  },
  {
   "cell_type": "code",
   "execution_count": 9,
   "metadata": {
    "ExecuteTime": {
     "end_time": "2021-10-08T09:14:24.140047Z",
     "start_time": "2021-10-08T09:14:24.133916Z"
    }
   },
   "outputs": [
    {
     "data": {
      "text/plain": [
       "(<curve2dmanager.Curve2DManager at 0x7f0b84fff550>,\n",
       " NurbsCurve2D(Point3Array([Vector3(-0.5,0,1),Vector3(-0.166667,0,1),Vector3(0.166667,0,1),Vector3(0.5,0,1)])))"
      ]
     },
     "execution_count": 9,
     "metadata": {},
     "output_type": "execute_result"
    }
   ],
   "source": [
    "l = LsystemParameters()\n",
    "l.add_function('width_variation', NurbsCurve2D([(0,1,1),(1/3,1,1),(2/3,1,1),(1,0,1)]))\n",
    "l.add_curve('nerve')\n",
    "l.add_curve('section')"
   ]
  },
  {
   "cell_type": "code",
   "execution_count": 10,
   "metadata": {
    "ExecuteTime": {
     "end_time": "2021-10-08T09:14:24.894399Z",
     "start_time": "2021-10-08T09:14:24.822806Z"
    }
   },
   "outputs": [
    {
     "data": {
      "application/vnd.jupyter.widget-view+json": {
       "model_id": "8b8f7e5e5678481bafb620366ca46631",
       "version_major": 2,
       "version_minor": 0
      },
      "text/plain": [
       "HBox(children=(HBox(children=(LsystemWidget(animate=True, derivationLength=2, is_magic=True, scene={'data': b'…"
      ]
     },
     "execution_count": 10,
     "metadata": {},
     "output_type": "execute_result"
    }
   ],
   "source": [
    "%%lpy -p l -w 20 -a True\n",
    "\n",
    "Axiom: @Gc ,(2) Sweep(nerve, section, 10, 0.1,  1, width_variation)"
   ]
  },
  {
   "cell_type": "markdown",
   "metadata": {},
   "source": [
    "## Branch shape\n",
    "\n",
    " - Insert an helio-tropism into the axiom. Test different values of the elasticity. Use command `@Tp` and `@Ts`\n",
    "\n",
    " - Remove tropism and insert a guide at the beginning of each branch. Edit graphically the guide to achieve curved architecture. Use `SetGuide`.\n"
   ]
  },
  {
   "cell_type": "code",
   "execution_count": 11,
   "metadata": {
    "ExecuteTime": {
     "end_time": "2021-10-07T13:04:35.226040Z",
     "start_time": "2021-10-07T13:04:35.221552Z"
    }
   },
   "outputs": [
    {
     "data": {
      "text/plain": [
       "(<curve2dmanager.Curve2DManager at 0x7f0b84fff550>,\n",
       " NurbsCurve2D(Point3Array([Vector3(-0.5,0,1),Vector3(-0.166667,0,1),Vector3(0.166667,0,1),Vector3(0.5,0,1)])))"
      ]
     },
     "execution_count": 11,
     "metadata": {},
     "output_type": "execute_result"
    }
   ],
   "source": [
    "l = LsystemParameters()\n",
    "l.add_curve('section')"
   ]
  },
  {
   "cell_type": "code",
   "execution_count": 13,
   "metadata": {
    "ExecuteTime": {
     "end_time": "2021-10-07T13:04:36.007245Z",
     "start_time": "2021-10-07T13:04:35.965551Z"
    }
   },
   "outputs": [
    {
     "data": {
      "application/vnd.jupyter.widget-view+json": {
       "model_id": "104c0ab2e5a24a0cb2ca9521e3326209",
       "version_major": 2,
       "version_minor": 0
      },
      "text/plain": [
       "HBox(children=(HBox(children=(LsystemWidget(animate=True, derivationLength=51, is_magic=True, scene={'data': b…"
      ]
     },
     "execution_count": 13,
     "metadata": {},
     "output_type": "execute_result"
    }
   ],
   "source": [
    "%%lpy -w 100 -a True -p l\n",
    "\n",
    "from openalea.plantgl.all import *\n",
    "from math import degrees,pi,cos\n",
    "from random import uniform, seed\n",
    "\n",
    "seed(0)\n",
    "l = 50.\n",
    "nl = 5\n",
    "phyllotaxy = 90\n",
    "max_order = 6\n",
    "diameter = lambda u : 0.05+0.5*(1-u)\n",
    "branching = lambda u : 40*cos(pi/2*u)+10\n",
    "\n",
    "module  A\n",
    "Axiom:   _(diameter(0)) SetGuide(section, l) @Gc A(l-1,0) @Tp(0, 0, 1) @Ts(1)\n",
    "\n",
    "derivation length: int(l)\n",
    "production:\n",
    "\n",
    "A(x, order) :\n",
    "    u = 1-x/l \n",
    "    if x <= 0 : produce\n",
    "    if x % nl == 0.0 and order < max_order:\n",
    "       nproduce   [ /(phyllotaxy*(x/nl))  &(branching(u)) A(x-1,  order+1) ]\n",
    "    produce F(1, diameter(u)) A(x-1, order)\n"
   ]
  },
  {
   "cell_type": "markdown",
   "metadata": {},
   "source": [
    "## Phyllotaxie\n",
    "\n",
    "Reproduire ces organisations\n",
    "\n",
    "\n",
    "<img src=\"./img/phyllotaxie.png\" width=\"600\">"
   ]
  },
  {
   "cell_type": "code",
   "execution_count": 14,
   "metadata": {
    "ExecuteTime": {
     "end_time": "2021-10-07T13:16:06.960263Z",
     "start_time": "2021-10-07T13:16:06.918599Z"
    }
   },
   "outputs": [
    {
     "data": {
      "application/vnd.jupyter.widget-view+json": {
       "model_id": "764d53d0e95b40c2bd5d1357840b41da",
       "version_major": 2,
       "version_minor": 0
      },
      "text/plain": [
       "LsystemWidget(derivationLength=2, is_magic=True, scene={'data': b'x\\xda\\x95\\x93Ak\\x13A\\x14\\xc7_\\x12\\x93M\\xa3i\\…"
      ]
     },
     "execution_count": 14,
     "metadata": {},
     "output_type": "execute_result"
    }
   ],
   "source": [
    "%%lpy -w 10\n",
    "Axiom: \n",
    "  for i in range(5):\n",
    "    nproduce F(1) /(137.5) [ &(120) ,(2) ~l(2) ]"
   ]
  },
  {
   "cell_type": "code",
   "execution_count": 15,
   "metadata": {},
   "outputs": [
    {
     "data": {
      "application/vnd.jupyter.widget-view+json": {
       "model_id": "0abb5a0fa08842968d6395019b2999ae",
       "version_major": 2,
       "version_minor": 0
      },
      "text/plain": [
       "LsystemWidget(derivationLength=2, is_magic=True, scene={'data': b'x\\xda\\x95SMo\\xd3@\\x10\\x9d8$\\x0e\\x86\\xb4\\x07T…"
      ]
     },
     "execution_count": 15,
     "metadata": {},
     "output_type": "execute_result"
    }
   ],
   "source": [
    "%%lpy -w 10\n",
    "Axiom: \n",
    "  for i in range(5):\n",
    "    nproduce F(1) /(180) [ &(90) ,(2) ~l(2) ]"
   ]
  },
  {
   "cell_type": "code",
   "execution_count": 16,
   "metadata": {},
   "outputs": [
    {
     "data": {
      "application/vnd.jupyter.widget-view+json": {
       "model_id": "bb415cbd82144296afbc9e869afd387c",
       "version_major": 2,
       "version_minor": 0
      },
      "text/plain": [
       "LsystemWidget(derivationLength=2, is_magic=True, scene={'data': b'x\\xda\\xad\\x94\\xcfk\\x13A\\x14\\xc7_\\x12\\xf3\\x83…"
      ]
     },
     "execution_count": 16,
     "metadata": {},
     "output_type": "execute_result"
    }
   ],
   "source": [
    "%%lpy -w 10\n",
    "Axiom: \n",
    "  for i in range(5):\n",
    "    nproduce F(1) /(90) [ &(90) ,(2) ~l(2) ]\n",
    "    nproduce  [ /(180) &(90) ,(2) ~l(2) ]"
   ]
  },
  {
   "cell_type": "code",
   "execution_count": 17,
   "metadata": {},
   "outputs": [
    {
     "data": {
      "application/vnd.jupyter.widget-view+json": {
       "model_id": "62cccd0ead254a6d9ac62ef5b359c632",
       "version_major": 2,
       "version_minor": 0
      },
      "text/plain": [
       "LsystemWidget(derivationLength=2, is_magic=True, scene={'data': b'x\\xda\\xa5\\x96Mh\\x13A\\x14\\xc7\\'\\x8diKKP\\x0fR\\…"
      ]
     },
     "execution_count": 17,
     "metadata": {},
     "output_type": "execute_result"
    }
   ],
   "source": [
    "%%lpy -w 10\n",
    "Axiom: \n",
    "  for i in range(5):\n",
    "    nproduce F(1)\n",
    "    for j in range(6) :\n",
    "        nproduce  [ /(60*j) &(75-j*2) ,(2) ~l(2) ]"
   ]
  },
  {
   "cell_type": "code",
   "execution_count": null,
   "metadata": {},
   "outputs": [],
   "source": []
  }
 ],
 "metadata": {
  "kernelspec": {
   "display_name": "Python 3 (ipykernel)",
   "language": "python",
   "name": "python3"
  },
  "language_info": {
   "codemirror_mode": {
    "name": "ipython",
    "version": 3
   },
   "file_extension": ".py",
   "mimetype": "text/x-python",
   "name": "python",
   "nbconvert_exporter": "python",
   "pygments_lexer": "ipython3",
   "version": "3.9.13"
  }
 },
 "nbformat": 4,
 "nbformat_minor": 2
}
